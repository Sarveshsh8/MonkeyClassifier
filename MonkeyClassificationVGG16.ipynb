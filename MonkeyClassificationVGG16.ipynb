{
  "nbformat": 4,
  "nbformat_minor": 0,
  "metadata": {
    "colab": {
      "name": "MonkeyClassificationVGG16.ipynb",
      "provenance": []
    },
    "kernelspec": {
      "name": "python3",
      "display_name": "Python 3"
    },
    "language_info": {
      "name": "python"
    },
    "accelerator": "GPU"
  },
  "cells": [
    {
      "cell_type": "code",
      "metadata": {
        "id": "2M1-imFuxUOe"
      },
      "source": [
        "import pandas as pd\n",
        "import numpy as np\n",
        "import matplotlib.pyplot as plt\n",
        "import seaborn as sns"
      ],
      "execution_count": 1,
      "outputs": []
    },
    {
      "cell_type": "code",
      "metadata": {
        "id": "pFKvz90_xZ-l"
      },
      "source": [
        "train_dir = '/content/drive/MyDrive/10 monkey/training/training'\n",
        "test_dir = '/content/drive/MyDrive/10 monkey/validation/validation'"
      ],
      "execution_count": 2,
      "outputs": []
    },
    {
      "cell_type": "code",
      "metadata": {
        "id": "AOVa4r4Lxb_N"
      },
      "source": [
        "cols = ['Label', 'Latin Name', 'Common Name', 'Train Images', 'Validation Images']\n",
        "df = pd.read_csv('/content/drive/MyDrive/10 monkey/monkey_labels.txt', names=cols, skiprows=1)"
      ],
      "execution_count": 3,
      "outputs": []
    },
    {
      "cell_type": "code",
      "metadata": {
        "colab": {
          "base_uri": "https://localhost:8080/",
          "height": 204
        },
        "id": "P7GecECTxdeM",
        "outputId": "57e85ea1-141b-4832-c3de-843958df0fde"
      },
      "source": [
        "df.head()"
      ],
      "execution_count": 4,
      "outputs": [
        {
          "output_type": "execute_result",
          "data": {
            "text/html": [
              "<div>\n",
              "<style scoped>\n",
              "    .dataframe tbody tr th:only-of-type {\n",
              "        vertical-align: middle;\n",
              "    }\n",
              "\n",
              "    .dataframe tbody tr th {\n",
              "        vertical-align: top;\n",
              "    }\n",
              "\n",
              "    .dataframe thead th {\n",
              "        text-align: right;\n",
              "    }\n",
              "</style>\n",
              "<table border=\"1\" class=\"dataframe\">\n",
              "  <thead>\n",
              "    <tr style=\"text-align: right;\">\n",
              "      <th></th>\n",
              "      <th>Label</th>\n",
              "      <th>Latin Name</th>\n",
              "      <th>Common Name</th>\n",
              "      <th>Train Images</th>\n",
              "      <th>Validation Images</th>\n",
              "    </tr>\n",
              "  </thead>\n",
              "  <tbody>\n",
              "    <tr>\n",
              "      <th>0</th>\n",
              "      <td>n0</td>\n",
              "      <td>alouatta_palliata\\t</td>\n",
              "      <td>mantled_howler</td>\n",
              "      <td>131</td>\n",
              "      <td>26</td>\n",
              "    </tr>\n",
              "    <tr>\n",
              "      <th>1</th>\n",
              "      <td>n1</td>\n",
              "      <td>erythrocebus_patas\\t</td>\n",
              "      <td>patas_monkey</td>\n",
              "      <td>139</td>\n",
              "      <td>28</td>\n",
              "    </tr>\n",
              "    <tr>\n",
              "      <th>2</th>\n",
              "      <td>n2</td>\n",
              "      <td>cacajao_calvus\\t</td>\n",
              "      <td>bald_uakari</td>\n",
              "      <td>137</td>\n",
              "      <td>27</td>\n",
              "    </tr>\n",
              "    <tr>\n",
              "      <th>3</th>\n",
              "      <td>n3</td>\n",
              "      <td>macaca_fuscata\\t</td>\n",
              "      <td>japanese_macaque</td>\n",
              "      <td>152</td>\n",
              "      <td>30</td>\n",
              "    </tr>\n",
              "    <tr>\n",
              "      <th>4</th>\n",
              "      <td>n4</td>\n",
              "      <td>cebuella_pygmea\\t</td>\n",
              "      <td>pygmy_marmoset</td>\n",
              "      <td>131</td>\n",
              "      <td>26</td>\n",
              "    </tr>\n",
              "  </tbody>\n",
              "</table>\n",
              "</div>"
            ],
            "text/plain": [
              "   Label               Latin Name  ... Train Images  Validation Images\n",
              "0  n0        alouatta_palliata\\t   ...          131                 26\n",
              "1  n1       erythrocebus_patas\\t   ...          139                 28\n",
              "2  n2       cacajao_calvus\\t       ...          137                 27\n",
              "3  n3       macaca_fuscata\\t       ...          152                 30\n",
              "4  n4      cebuella_pygmea\\t       ...          131                 26\n",
              "\n",
              "[5 rows x 5 columns]"
            ]
          },
          "metadata": {
            "tags": []
          },
          "execution_count": 4
        }
      ]
    },
    {
      "cell_type": "code",
      "metadata": {
        "id": "kojP8kZbxfDF"
      },
      "source": [
        "\n",
        "from keras.layers import Input, Lambda, Dense, Flatten\n",
        "from keras.models import Model\n",
        "from keras.applications.vgg16 import VGG16\n",
        "from keras.applications.vgg16 import preprocess_input\n",
        "from keras.preprocessing import image\n",
        "from keras.preprocessing.image import ImageDataGenerator\n",
        "from keras.models import Sequential"
      ],
      "execution_count": 5,
      "outputs": []
    },
    {
      "cell_type": "code",
      "metadata": {
        "id": "G75rxKOixhXd"
      },
      "source": [
        "from sklearn.metrics import confusion_matrix\n",
        "import numpy as np\n",
        "import matplotlib.pyplot as plt\n",
        "from glob import glob"
      ],
      "execution_count": 6,
      "outputs": []
    },
    {
      "cell_type": "code",
      "metadata": {
        "id": "dPbbjD4-xi1V"
      },
      "source": [
        "IMAGE_SIZE = [100, 100]"
      ],
      "execution_count": 7,
      "outputs": []
    },
    {
      "cell_type": "code",
      "metadata": {
        "colab": {
          "base_uri": "https://localhost:8080/"
        },
        "id": "52hdYzSrxoIl",
        "outputId": "4ed5e1f1-9d70-442b-e5b5-5d49e76d4195"
      },
      "source": [
        "vgg = VGG16(input_shape=IMAGE_SIZE + [3], weights='imagenet', include_top=False)"
      ],
      "execution_count": 8,
      "outputs": [
        {
          "output_type": "stream",
          "text": [
            "Downloading data from https://storage.googleapis.com/tensorflow/keras-applications/vgg16/vgg16_weights_tf_dim_ordering_tf_kernels_notop.h5\n",
            "58892288/58889256 [==============================] - 1s 0us/step\n"
          ],
          "name": "stdout"
        }
      ]
    },
    {
      "cell_type": "code",
      "metadata": {
        "id": "Lx-nue6bxqh7"
      },
      "source": [
        "for layer in vgg.layers:\n",
        "  layer.trainable = False"
      ],
      "execution_count": 9,
      "outputs": []
    },
    {
      "cell_type": "code",
      "metadata": {
        "id": "7WcppPbtxtkF"
      },
      "source": [
        "folders = glob('/content/drive/MyDrive/10 monkey/training/training/*')"
      ],
      "execution_count": 10,
      "outputs": []
    },
    {
      "cell_type": "code",
      "metadata": {
        "id": "BERzH2jfx091"
      },
      "source": [
        "x = Flatten()(vgg.output)\n",
        "prediction = Dense(len(folders), activation='softmax')(x)"
      ],
      "execution_count": 11,
      "outputs": []
    },
    {
      "cell_type": "code",
      "metadata": {
        "id": "Tk-_f-0fx5Pd"
      },
      "source": [
        "model = Model(inputs=vgg.input, outputs=prediction)"
      ],
      "execution_count": 12,
      "outputs": []
    },
    {
      "cell_type": "code",
      "metadata": {
        "colab": {
          "base_uri": "https://localhost:8080/"
        },
        "id": "je87E5w0x7w7",
        "outputId": "36b59f7c-c9d3-44dc-f6bd-3d841351a368"
      },
      "source": [
        "model.summary()"
      ],
      "execution_count": 13,
      "outputs": [
        {
          "output_type": "stream",
          "text": [
            "Model: \"model\"\n",
            "_________________________________________________________________\n",
            "Layer (type)                 Output Shape              Param #   \n",
            "=================================================================\n",
            "input_1 (InputLayer)         [(None, 100, 100, 3)]     0         \n",
            "_________________________________________________________________\n",
            "block1_conv1 (Conv2D)        (None, 100, 100, 64)      1792      \n",
            "_________________________________________________________________\n",
            "block1_conv2 (Conv2D)        (None, 100, 100, 64)      36928     \n",
            "_________________________________________________________________\n",
            "block1_pool (MaxPooling2D)   (None, 50, 50, 64)        0         \n",
            "_________________________________________________________________\n",
            "block2_conv1 (Conv2D)        (None, 50, 50, 128)       73856     \n",
            "_________________________________________________________________\n",
            "block2_conv2 (Conv2D)        (None, 50, 50, 128)       147584    \n",
            "_________________________________________________________________\n",
            "block2_pool (MaxPooling2D)   (None, 25, 25, 128)       0         \n",
            "_________________________________________________________________\n",
            "block3_conv1 (Conv2D)        (None, 25, 25, 256)       295168    \n",
            "_________________________________________________________________\n",
            "block3_conv2 (Conv2D)        (None, 25, 25, 256)       590080    \n",
            "_________________________________________________________________\n",
            "block3_conv3 (Conv2D)        (None, 25, 25, 256)       590080    \n",
            "_________________________________________________________________\n",
            "block3_pool (MaxPooling2D)   (None, 12, 12, 256)       0         \n",
            "_________________________________________________________________\n",
            "block4_conv1 (Conv2D)        (None, 12, 12, 512)       1180160   \n",
            "_________________________________________________________________\n",
            "block4_conv2 (Conv2D)        (None, 12, 12, 512)       2359808   \n",
            "_________________________________________________________________\n",
            "block4_conv3 (Conv2D)        (None, 12, 12, 512)       2359808   \n",
            "_________________________________________________________________\n",
            "block4_pool (MaxPooling2D)   (None, 6, 6, 512)         0         \n",
            "_________________________________________________________________\n",
            "block5_conv1 (Conv2D)        (None, 6, 6, 512)         2359808   \n",
            "_________________________________________________________________\n",
            "block5_conv2 (Conv2D)        (None, 6, 6, 512)         2359808   \n",
            "_________________________________________________________________\n",
            "block5_conv3 (Conv2D)        (None, 6, 6, 512)         2359808   \n",
            "_________________________________________________________________\n",
            "block5_pool (MaxPooling2D)   (None, 3, 3, 512)         0         \n",
            "_________________________________________________________________\n",
            "flatten (Flatten)            (None, 4608)              0         \n",
            "_________________________________________________________________\n",
            "dense (Dense)                (None, 10)                46090     \n",
            "=================================================================\n",
            "Total params: 14,760,778\n",
            "Trainable params: 46,090\n",
            "Non-trainable params: 14,714,688\n",
            "_________________________________________________________________\n"
          ],
          "name": "stdout"
        }
      ]
    },
    {
      "cell_type": "code",
      "metadata": {
        "id": "3Bj5Jaw_x-kz"
      },
      "source": [
        "model.compile(\n",
        "  loss='categorical_crossentropy',\n",
        "  optimizer='adam',\n",
        "  metrics=['accuracy']\n",
        ")"
      ],
      "execution_count": 14,
      "outputs": []
    },
    {
      "cell_type": "code",
      "metadata": {
        "id": "mFPp61NSyBOl"
      },
      "source": [
        "train_datagen = ImageDataGenerator(rescale = 1./255,\n",
        "                                   shear_range = 0.2,\n",
        "                                   zoom_range = 0.2,\n",
        "                                   horizontal_flip = True)\n",
        "\n",
        "test_datagen = ImageDataGenerator(rescale = 1./255)\n"
      ],
      "execution_count": 15,
      "outputs": []
    },
    {
      "cell_type": "code",
      "metadata": {
        "colab": {
          "base_uri": "https://localhost:8080/"
        },
        "id": "3ochzEssyE7b",
        "outputId": "3872da8d-ec8b-459b-f04c-1ea503604b0e"
      },
      "source": [
        "training_set = train_datagen.flow_from_directory(train_dir,\n",
        "                                                 target_size = (100, 100),\n",
        "                                                 batch_size = 32,\n",
        "                                                 class_mode = 'categorical')\n",
        "\n",
        "test_set = test_datagen.flow_from_directory(test_dir,\n",
        "                                            target_size = (100, 100),\n",
        "                                            batch_size = 32,\n",
        "                                            class_mode = 'categorical')"
      ],
      "execution_count": 16,
      "outputs": [
        {
          "output_type": "stream",
          "text": [
            "Found 1145 images belonging to 10 classes.\n",
            "Found 272 images belonging to 10 classes.\n"
          ],
          "name": "stdout"
        }
      ]
    },
    {
      "cell_type": "code",
      "metadata": {
        "colab": {
          "base_uri": "https://localhost:8080/"
        },
        "id": "z6pTYx9uyPiU",
        "outputId": "26a9c133-40b5-4aa8-9288-956e2a54fc47"
      },
      "source": [
        "r = model.fit_generator(\n",
        "  training_set,\n",
        "  validation_data=test_set,\n",
        "  epochs=25\n",
        ")"
      ],
      "execution_count": 17,
      "outputs": [
        {
          "output_type": "stream",
          "text": [
            "/usr/local/lib/python3.7/dist-packages/tensorflow/python/keras/engine/training.py:1844: UserWarning: `Model.fit_generator` is deprecated and will be removed in a future version. Please use `Model.fit`, which supports generators.\n",
            "  warnings.warn('`Model.fit_generator` is deprecated and '\n"
          ],
          "name": "stderr"
        },
        {
          "output_type": "stream",
          "text": [
            "Epoch 1/25\n",
            "36/36 [==============================] - 488s 13s/step - loss: 2.1636 - accuracy: 0.2368 - val_loss: 1.6111 - val_accuracy: 0.4559\n",
            "Epoch 2/25\n",
            "36/36 [==============================] - 33s 941ms/step - loss: 1.4261 - accuracy: 0.5272 - val_loss: 1.3419 - val_accuracy: 0.5441\n",
            "Epoch 3/25\n",
            "36/36 [==============================] - 33s 933ms/step - loss: 1.1094 - accuracy: 0.6694 - val_loss: 1.2040 - val_accuracy: 0.5919\n",
            "Epoch 4/25\n",
            "36/36 [==============================] - 33s 932ms/step - loss: 1.0052 - accuracy: 0.6832 - val_loss: 1.0884 - val_accuracy: 0.6544\n",
            "Epoch 5/25\n",
            "36/36 [==============================] - 33s 919ms/step - loss: 0.7953 - accuracy: 0.7843 - val_loss: 1.0404 - val_accuracy: 0.6654\n",
            "Epoch 6/25\n",
            "36/36 [==============================] - 33s 925ms/step - loss: 0.8271 - accuracy: 0.7692 - val_loss: 0.9878 - val_accuracy: 0.7096\n",
            "Epoch 7/25\n",
            "36/36 [==============================] - 33s 919ms/step - loss: 0.6993 - accuracy: 0.8063 - val_loss: 1.0085 - val_accuracy: 0.6691\n",
            "Epoch 8/25\n",
            "36/36 [==============================] - 33s 923ms/step - loss: 0.6265 - accuracy: 0.8421 - val_loss: 1.0038 - val_accuracy: 0.6471\n",
            "Epoch 9/25\n",
            "36/36 [==============================] - 33s 934ms/step - loss: 0.6063 - accuracy: 0.8280 - val_loss: 0.9715 - val_accuracy: 0.6765\n",
            "Epoch 10/25\n",
            "36/36 [==============================] - 33s 926ms/step - loss: 0.5755 - accuracy: 0.8420 - val_loss: 0.9341 - val_accuracy: 0.6875\n",
            "Epoch 11/25\n",
            "36/36 [==============================] - 33s 941ms/step - loss: 0.4872 - accuracy: 0.8750 - val_loss: 0.9043 - val_accuracy: 0.7243\n",
            "Epoch 12/25\n",
            "36/36 [==============================] - 34s 944ms/step - loss: 0.4967 - accuracy: 0.8680 - val_loss: 0.8912 - val_accuracy: 0.7059\n",
            "Epoch 13/25\n",
            "36/36 [==============================] - 33s 930ms/step - loss: 0.4565 - accuracy: 0.8898 - val_loss: 0.8816 - val_accuracy: 0.7169\n",
            "Epoch 14/25\n",
            "36/36 [==============================] - 33s 934ms/step - loss: 0.4334 - accuracy: 0.8977 - val_loss: 0.9267 - val_accuracy: 0.7022\n",
            "Epoch 15/25\n",
            "36/36 [==============================] - 33s 928ms/step - loss: 0.4387 - accuracy: 0.8894 - val_loss: 0.9078 - val_accuracy: 0.7022\n",
            "Epoch 16/25\n",
            "36/36 [==============================] - 33s 924ms/step - loss: 0.3659 - accuracy: 0.9112 - val_loss: 0.9538 - val_accuracy: 0.6728\n",
            "Epoch 17/25\n",
            "36/36 [==============================] - 33s 932ms/step - loss: 0.3886 - accuracy: 0.9012 - val_loss: 0.8785 - val_accuracy: 0.7316\n",
            "Epoch 18/25\n",
            "36/36 [==============================] - 33s 927ms/step - loss: 0.3324 - accuracy: 0.9260 - val_loss: 0.8914 - val_accuracy: 0.7206\n",
            "Epoch 19/25\n",
            "36/36 [==============================] - 33s 934ms/step - loss: 0.3824 - accuracy: 0.9098 - val_loss: 0.9042 - val_accuracy: 0.7096\n",
            "Epoch 20/25\n",
            "36/36 [==============================] - 33s 925ms/step - loss: 0.3341 - accuracy: 0.9321 - val_loss: 0.9301 - val_accuracy: 0.7132\n",
            "Epoch 21/25\n",
            "36/36 [==============================] - 33s 926ms/step - loss: 0.3165 - accuracy: 0.9362 - val_loss: 0.8701 - val_accuracy: 0.7169\n",
            "Epoch 22/25\n",
            "36/36 [==============================] - 33s 929ms/step - loss: 0.2872 - accuracy: 0.9400 - val_loss: 0.8769 - val_accuracy: 0.7059\n",
            "Epoch 23/25\n",
            "36/36 [==============================] - 33s 929ms/step - loss: 0.2809 - accuracy: 0.9553 - val_loss: 0.8609 - val_accuracy: 0.7132\n",
            "Epoch 24/25\n",
            "36/36 [==============================] - 33s 929ms/step - loss: 0.2651 - accuracy: 0.9474 - val_loss: 0.8567 - val_accuracy: 0.7316\n",
            "Epoch 25/25\n",
            "36/36 [==============================] - 33s 917ms/step - loss: 0.2867 - accuracy: 0.9398 - val_loss: 0.8551 - val_accuracy: 0.7279\n"
          ],
          "name": "stdout"
        }
      ]
    },
    {
      "cell_type": "code",
      "metadata": {
        "id": "Gg9CmC2I0Q5B"
      },
      "source": [
        "from keras.models import load_model\n",
        "\n",
        "model.save('VGG16.h5')"
      ],
      "execution_count": 18,
      "outputs": []
    },
    {
      "cell_type": "code",
      "metadata": {
        "id": "FBD5u8Fu3rMY"
      },
      "source": [
        ""
      ],
      "execution_count": null,
      "outputs": []
    }
  ]
}