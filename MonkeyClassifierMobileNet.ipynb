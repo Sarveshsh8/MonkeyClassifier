{
  "nbformat": 4,
  "nbformat_minor": 0,
  "metadata": {
    "colab": {
      "name": "MonkeyClassifierMobileNet.ipynb",
      "provenance": []
    },
    "kernelspec": {
      "name": "python3",
      "display_name": "Python 3"
    },
    "language_info": {
      "name": "python"
    },
    "accelerator": "GPU"
  },
  "cells": [
    {
      "cell_type": "code",
      "metadata": {
        "id": "0wQ5IX3fnv5P"
      },
      "source": [
        "import pandas as pd\n",
        "import numpy as np\n",
        "import matplotlib.pyplot as plt\n",
        "import seaborn as sns"
      ],
      "execution_count": 1,
      "outputs": []
    },
    {
      "cell_type": "code",
      "metadata": {
        "id": "w6n7rG6koEBA"
      },
      "source": [
        "train_dir = '/content/drive/MyDrive/10 monkey/training/training'\n",
        "test_dir = '/content/drive/MyDrive/10 monkey/validation/validation'"
      ],
      "execution_count": 2,
      "outputs": []
    },
    {
      "cell_type": "code",
      "metadata": {
        "id": "v1orUOOsosxp"
      },
      "source": [
        "cols = ['Label', 'Latin Name', 'Common Name', 'Train Images', 'Validation Images']\n",
        "df = pd.read_csv('/content/drive/MyDrive/10 monkey/monkey_labels.txt', names=cols, skiprows=1)"
      ],
      "execution_count": 3,
      "outputs": []
    },
    {
      "cell_type": "code",
      "metadata": {
        "colab": {
          "base_uri": "https://localhost:8080/",
          "height": 204
        },
        "id": "QBKlED0NpNnK",
        "outputId": "1452d744-5143-4d90-c5d3-af59cac17f31"
      },
      "source": [
        "df.head()"
      ],
      "execution_count": 4,
      "outputs": [
        {
          "output_type": "execute_result",
          "data": {
            "text/html": [
              "<div>\n",
              "<style scoped>\n",
              "    .dataframe tbody tr th:only-of-type {\n",
              "        vertical-align: middle;\n",
              "    }\n",
              "\n",
              "    .dataframe tbody tr th {\n",
              "        vertical-align: top;\n",
              "    }\n",
              "\n",
              "    .dataframe thead th {\n",
              "        text-align: right;\n",
              "    }\n",
              "</style>\n",
              "<table border=\"1\" class=\"dataframe\">\n",
              "  <thead>\n",
              "    <tr style=\"text-align: right;\">\n",
              "      <th></th>\n",
              "      <th>Label</th>\n",
              "      <th>Latin Name</th>\n",
              "      <th>Common Name</th>\n",
              "      <th>Train Images</th>\n",
              "      <th>Validation Images</th>\n",
              "    </tr>\n",
              "  </thead>\n",
              "  <tbody>\n",
              "    <tr>\n",
              "      <th>0</th>\n",
              "      <td>n0</td>\n",
              "      <td>alouatta_palliata\\t</td>\n",
              "      <td>mantled_howler</td>\n",
              "      <td>131</td>\n",
              "      <td>26</td>\n",
              "    </tr>\n",
              "    <tr>\n",
              "      <th>1</th>\n",
              "      <td>n1</td>\n",
              "      <td>erythrocebus_patas\\t</td>\n",
              "      <td>patas_monkey</td>\n",
              "      <td>139</td>\n",
              "      <td>28</td>\n",
              "    </tr>\n",
              "    <tr>\n",
              "      <th>2</th>\n",
              "      <td>n2</td>\n",
              "      <td>cacajao_calvus\\t</td>\n",
              "      <td>bald_uakari</td>\n",
              "      <td>137</td>\n",
              "      <td>27</td>\n",
              "    </tr>\n",
              "    <tr>\n",
              "      <th>3</th>\n",
              "      <td>n3</td>\n",
              "      <td>macaca_fuscata\\t</td>\n",
              "      <td>japanese_macaque</td>\n",
              "      <td>152</td>\n",
              "      <td>30</td>\n",
              "    </tr>\n",
              "    <tr>\n",
              "      <th>4</th>\n",
              "      <td>n4</td>\n",
              "      <td>cebuella_pygmea\\t</td>\n",
              "      <td>pygmy_marmoset</td>\n",
              "      <td>131</td>\n",
              "      <td>26</td>\n",
              "    </tr>\n",
              "  </tbody>\n",
              "</table>\n",
              "</div>"
            ],
            "text/plain": [
              "   Label               Latin Name  ... Train Images  Validation Images\n",
              "0  n0        alouatta_palliata\\t   ...          131                 26\n",
              "1  n1       erythrocebus_patas\\t   ...          139                 28\n",
              "2  n2       cacajao_calvus\\t       ...          137                 27\n",
              "3  n3       macaca_fuscata\\t       ...          152                 30\n",
              "4  n4      cebuella_pygmea\\t       ...          131                 26\n",
              "\n",
              "[5 rows x 5 columns]"
            ]
          },
          "metadata": {
            "tags": []
          },
          "execution_count": 4
        }
      ]
    },
    {
      "cell_type": "code",
      "metadata": {
        "id": "8L1eOtZ6pO7n"
      },
      "source": [
        "\n",
        "from keras.layers import Input, Lambda, Dense, Flatten\n",
        "from keras.models import Model\n",
        "from keras.applications.vgg16 import VGG16\n",
        "from keras.applications.vgg16 import preprocess_input\n",
        "from keras.preprocessing import image\n",
        "from keras.preprocessing.image import ImageDataGenerator\n",
        "from keras.models import Sequential"
      ],
      "execution_count": 6,
      "outputs": []
    },
    {
      "cell_type": "code",
      "metadata": {
        "id": "w24jbzvEpe2X"
      },
      "source": [
        "from sklearn.metrics import confusion_matrix\n",
        "import numpy as np\n",
        "import matplotlib.pyplot as plt\n",
        "from glob import glob"
      ],
      "execution_count": 7,
      "outputs": []
    },
    {
      "cell_type": "code",
      "metadata": {
        "id": "7mS9Dn8kqBiO"
      },
      "source": [
        "IMAGE_SIZE = [100, 100]"
      ],
      "execution_count": 8,
      "outputs": []
    },
    {
      "cell_type": "markdown",
      "metadata": {
        "id": "G1EwMyPItqTr"
      },
      "source": [
        ""
      ]
    },
    {
      "cell_type": "code",
      "metadata": {
        "id": "VvkKcFbmqfjt"
      },
      "source": [
        "from keras.preprocessing.image import ImageDataGenerator"
      ],
      "execution_count": 16,
      "outputs": []
    },
    {
      "cell_type": "code",
      "metadata": {
        "id": "7Mje834Pqo-G"
      },
      "source": [
        "\n",
        "train_datagen = ImageDataGenerator(rescale = 1./255,\n",
        "                                   shear_range = 0.2,\n",
        "                                   zoom_range = 0.2,\n",
        "                                   horizontal_flip = True)\n",
        "test_datagen = ImageDataGenerator(rescale = 1./255)"
      ],
      "execution_count": 17,
      "outputs": []
    },
    {
      "cell_type": "code",
      "metadata": {
        "colab": {
          "base_uri": "https://localhost:8080/"
        },
        "id": "8SQ5scBqqrff",
        "outputId": "a303cc78-b61c-4a74-d422-1dc7f2f73ed5"
      },
      "source": [
        "training_set = train_datagen.flow_from_directory(train_dir,\n",
        "                                                 target_size = (100, 100),\n",
        "                                                 batch_size = 32,\n",
        "                                                 class_mode = 'categorical')"
      ],
      "execution_count": 18,
      "outputs": [
        {
          "output_type": "stream",
          "text": [
            "Found 1145 images belonging to 10 classes.\n"
          ],
          "name": "stdout"
        }
      ]
    },
    {
      "cell_type": "code",
      "metadata": {
        "colab": {
          "base_uri": "https://localhost:8080/"
        },
        "id": "2tsvUiW9qzpe",
        "outputId": "ad3f1f98-8df9-438e-fe1e-447526c35a0e"
      },
      "source": [
        "\n",
        "test_set = test_datagen.flow_from_directory(test_dir,\n",
        "                                            target_size = (100, 100),\n",
        "                                            batch_size = 32,\n",
        "                                            class_mode = 'categorical')"
      ],
      "execution_count": 19,
      "outputs": [
        {
          "output_type": "stream",
          "text": [
            "Found 272 images belonging to 10 classes.\n"
          ],
          "name": "stdout"
        }
      ]
    },
    {
      "cell_type": "code",
      "metadata": {
        "colab": {
          "base_uri": "https://localhost:8080/"
        },
        "id": "7bqTYOhUrEVf",
        "outputId": "5c52e81a-41db-4e94-b4ea-69fd807e8caa"
      },
      "source": [
        "pretrained_model = tf.keras.applications.MobileNetV2(\n",
        "    input_shape=(224, 224, 3),\n",
        "    include_top=False,\n",
        "    weights='imagenet',\n",
        "    pooling='avg'\n",
        ")\n",
        "\n",
        "pretrained_model.trainable = False"
      ],
      "execution_count": 23,
      "outputs": [
        {
          "output_type": "stream",
          "text": [
            "Downloading data from https://storage.googleapis.com/tensorflow/keras-applications/mobilenet_v2/mobilenet_v2_weights_tf_dim_ordering_tf_kernels_1.0_224_no_top.h5\n",
            "9412608/9406464 [==============================] - 0s 0us/step\n"
          ],
          "name": "stdout"
        }
      ]
    },
    {
      "cell_type": "code",
      "metadata": {
        "id": "S6lp0bfPtB01"
      },
      "source": [
        "inputs = pretrained_model.input\n",
        "\n",
        "x = tf.keras.layers.Dense(128, activation='relu')(pretrained_model.output)\n",
        "x = tf.keras.layers.Dense(128, activation='relu')(x)\n",
        "\n",
        "outputs = tf.keras.layers.Dense(10, activation='softmax')(x)\n",
        "\n",
        "model = tf.keras.Model(inputs=inputs, outputs=outputs)\n",
        "\n",
        "model.compile(\n",
        "    optimizer='adam',\n",
        "    loss='categorical_crossentropy',\n",
        "    metrics=['accuracy']\n",
        ")"
      ],
      "execution_count": 24,
      "outputs": []
    },
    {
      "cell_type": "code",
      "metadata": {
        "colab": {
          "base_uri": "https://localhost:8080/"
        },
        "id": "dym11XxZtMxt",
        "outputId": "1fbda4ee-6e1c-4f24-850a-ea575e9624f7"
      },
      "source": [
        "history = model.fit(\n",
        "    training_set,\n",
        "    validation_data=test_set,\n",
        "    epochs=50,\n",
        "    callbacks=[\n",
        "        tf.keras.callbacks.EarlyStopping(\n",
        "            monitor='val_loss',\n",
        "            patience=3,\n",
        "            restore_best_weights=True\n",
        "        )\n",
        "    ]\n",
        ")"
      ],
      "execution_count": 26,
      "outputs": [
        {
          "output_type": "stream",
          "text": [
            "Epoch 1/50\n",
            "36/36 [==============================] - 678s 19s/step - loss: 2.0256 - accuracy: 0.3305 - val_loss: 0.8466 - val_accuracy: 0.7610\n",
            "Epoch 2/50\n",
            "36/36 [==============================] - 48s 1s/step - loss: 0.7669 - accuracy: 0.7279 - val_loss: 0.8006 - val_accuracy: 0.7426\n",
            "Epoch 3/50\n",
            "36/36 [==============================] - 48s 1s/step - loss: 0.5789 - accuracy: 0.8047 - val_loss: 0.6094 - val_accuracy: 0.8162\n",
            "Epoch 4/50\n",
            "36/36 [==============================] - 48s 1s/step - loss: 0.4906 - accuracy: 0.8391 - val_loss: 0.6322 - val_accuracy: 0.7904\n",
            "Epoch 5/50\n",
            "36/36 [==============================] - 48s 1s/step - loss: 0.5086 - accuracy: 0.8267 - val_loss: 0.7559 - val_accuracy: 0.7757\n",
            "Epoch 6/50\n",
            "36/36 [==============================] - 48s 1s/step - loss: 0.4404 - accuracy: 0.8521 - val_loss: 0.7084 - val_accuracy: 0.7794\n"
          ],
          "name": "stdout"
        }
      ]
    },
    {
      "cell_type": "code",
      "metadata": {
        "id": "znm0TbCKtXbd"
      },
      "source": [
        "import tensorflow as tf\n",
        "\n",
        "from keras.models import load_model\n",
        "\n",
        "model.save('mobilenet.h5')"
      ],
      "execution_count": 27,
      "outputs": []
    },
    {
      "cell_type": "code",
      "metadata": {
        "id": "FI1KKsAXzREF"
      },
      "source": [
        ""
      ],
      "execution_count": null,
      "outputs": []
    }
  ]
}